{
 "cells": [
  {
   "cell_type": "markdown",
   "id": "88126821",
   "metadata": {},
   "source": [
    "# Introduction"
   ]
  },
  {
   "cell_type": "markdown",
   "id": "209a856c",
   "metadata": {},
   "source": [
    "I added some comments throughout this notebook to guide you so I hope it's easily understandable. Let me know if you have any questions or comments either in person or shoot me an e-mail (jozbus@ethz.ch) or slack message (@Joost). Shout out to Quentin Ficheux for much of the framework.\n",
    "\n",
    "Joost Bus (2021/12/01)"
   ]
  },
  {
   "cell_type": "markdown",
   "id": "9ba0bba3",
   "metadata": {},
   "source": [
    "# Imports and directories"
   ]
  },
  {
   "cell_type": "markdown",
   "id": "a8e037b1",
   "metadata": {},
   "source": [
    "Before you start, make sure you merged `feature/hamfit_analysis` into your current branch (but since you have this notebook, you probably already have)"
   ]
  },
  {
   "cell_type": "code",
   "execution_count": null,
   "id": "a9009162",
   "metadata": {},
   "outputs": [],
   "source": [
    "import numpy as np\n",
    "from pycqed.utilities.hamiltonian_fitting_analysis import HamiltonianFittingAnalysis as HF\n",
    "\n",
    "import matplotlib.pyplot as plt\n",
    "plt.rcParams['figure.figsize'] = [12, 8]"
   ]
  },
  {
   "cell_type": "markdown",
   "id": "fa5bd824",
   "metadata": {},
   "source": [
    "# Loading relevant data"
   ]
  },
  {
   "cell_type": "markdown",
   "id": "24ed84b0",
   "metadata": {},
   "source": [
    "Example data taken on the ATC75_M136_S17HW02 device in November 2021"
   ]
  },
  {
   "cell_type": "markdown",
   "id": "996cbf30",
   "metadata": {},
   "source": [
    "## Model data"
   ]
  },
  {
   "cell_type": "markdown",
   "id": "4ea881e0",
   "metadata": {},
   "source": [
    "Defining the model data. It is grouped per voltage, then transition and then that transitions frequency, see below for an example."
   ]
  },
  {
   "cell_type": "code",
   "execution_count": null,
   "id": "1943114d",
   "metadata": {},
   "outputs": [],
   "source": [
    "# characterization Hamiltonian fitting\n",
    "\n",
    "#voltages\n",
    "uss_voltage = -2.316\n",
    "lss_voltage = -5.651\n",
    "mid_voltage = -3.9835\n",
    "\n",
    "#ge-frequencies\n",
    "uss_ge_freq = 5.887164e9\n",
    "lss_ge_freq = 4.151017e9\n",
    "mid_ge_freq = 5236129258\n",
    "\n",
    "#ef-frequency\n",
    "uss_ef_freq = 5.713653e9\n",
    "\n",
    "#model values\n",
    "experimental_values_model = {\n",
    "    uss_voltage: {\n",
    "        'ge': uss_ge_freq, # ge at lss\n",
    "        'ef': uss_ef_freq, # ef at uss        \n",
    "    },\n",
    "    lss_voltage: {\n",
    "        'ge': lss_ge_freq, # ge at lss      \n",
    "    },\n",
    "    mid_voltage: {\n",
    "        'ge': mid_ge_freq, # ge at mid    \n",
    "    },\n",
    "}"
   ]
  },
  {
   "cell_type": "markdown",
   "id": "e6bdfc97",
   "metadata": {},
   "source": [
    "Note that you are quite free to choose how to write the transitions. \n",
    "\n",
    "Examples:\n",
    "- The ge-transition can be given as `'ge'` or `((0,0),(1,0))` or `'g,0-e,0'`\n",
    "- The ef-transition can be given as `'ef'` or `((1,0),(2,0))` or `'e,0-f,0'`"
   ]
  },
  {
   "cell_type": "markdown",
   "id": "fcc9a4d7",
   "metadata": {},
   "source": [
    "## Verification data"
   ]
  },
  {
   "cell_type": "markdown",
   "id": "c231089b",
   "metadata": {},
   "source": [
    "The verification measurements are saved to a dictionary with the same format"
   ]
  },
  {
   "cell_type": "code",
   "execution_count": null,
   "id": "ec4d3718",
   "metadata": {
    "scrolled": true
   },
   "outputs": [],
   "source": [
    "# characterization Hamiltonian fitting\n",
    "\n",
    "# # example for format\n",
    "# experimental_values_verification = {\n",
    "#     0.531:{\n",
    "#         ((0,0),(1, 0)):6.143162354737646e9,\n",
    "#         ((1,0),(2, 0)):5.971582479578413e9,\n",
    "#         ((0,0),(0, 1)):7.1543e9,\n",
    "#     }\n",
    "# }\n",
    "\n",
    "experimental_values_verification = {-2.5261875000000003: {((0, 0), (1, 0)): 5876861838.594975},\n",
    " -2.734375: {((0, 0), (1, 0)): 5845556466.100952},\n",
    " -2.9425625: {((0, 0), (1, 0)): 5792983999.538286},\n",
    " -3.15075: {((0, 0), (1, 0)): 5720042348.821003},\n",
    " -3.3589375: {((0, 0), (1, 0)): 5626537070.824841},\n",
    " -3.567125: {((0, 0), (1, 0)): 5514561842.759405},\n",
    " -3.7753125: {((0, 0), (1, 0)): 5383936019.117272},\n",
    " -3.9835000000000003: {((0, 0), (1, 0)): 5236129258.242982},\n",
    " -4.1916875000000005: {((0, 0), (1, 0)): 5075064940.79929},\n",
    " -4.399875: {((0, 0), (1, 0)): 4903849522.684156},\n",
    " -4.6080625: {((0, 0), (1, 0)): 4727949872.591458},\n",
    " -4.81625: {((0, 0), (1, 0)): 4555756653.668654},\n",
    " -5.0244374999999994: {((0, 0), (1, 0)): 4398180050.318708},\n",
    " -5.2326250000000005: {((0, 0), (1, 0)): 4267995295.45334},\n",
    " -5.4408125: {((0, 0), (1, 0)): 4181664919.8280997}}"
   ]
  },
  {
   "cell_type": "code",
   "execution_count": null,
   "id": "a2d5f197",
   "metadata": {
    "scrolled": true
   },
   "outputs": [],
   "source": [
    "experimental_values_verification"
   ]
  },
  {
   "cell_type": "markdown",
   "id": "bf8ada8d",
   "metadata": {},
   "source": [
    "# Hamiltonian fitting"
   ]
  },
  {
   "cell_type": "markdown",
   "id": "438626d8",
   "metadata": {},
   "source": [
    "## Checking model data by plotting and printing"
   ]
  },
  {
   "cell_type": "markdown",
   "id": "4c77f720",
   "metadata": {},
   "source": [
    "Quickly plotting the model data to make sure everything makes sense..."
   ]
  },
  {
   "cell_type": "code",
   "execution_count": null,
   "id": "51e29b54",
   "metadata": {
    "scrolled": false
   },
   "outputs": [],
   "source": [
    "HF.plot_experimental_values(experimental_values_model, print_values=True)"
   ]
  },
  {
   "cell_type": "markdown",
   "id": "7e779ef2",
   "metadata": {},
   "source": [
    "## Fitting"
   ]
  },
  {
   "cell_type": "markdown",
   "id": "1a8ff923",
   "metadata": {},
   "source": [
    "Here I define the initial guess parameters. Depending on what parameters you choose to optimize (see parameters_to_optimize variable) some are taken to be fixed. For example, `dac_sweet_spot` or `V_per_phi0` can be calculated from the sweet spot voltages instead of being fitted."
   ]
  },
  {
   "cell_type": "code",
   "execution_count": null,
   "id": "338a0e38",
   "metadata": {},
   "outputs": [],
   "source": [
    "# parameters to be optimized\n",
    "parameters_to_optimize = ['Ej_max', 'E_c', 'asymmetry', 'coupling']\n",
    "\n",
    "# initial parameters and fixed parameters\n",
    "dac_sweet_spot = uss_voltage\n",
    "V_per_phi0 = 2*np.abs(uss_voltage-lss_voltage)\n",
    "\n",
    "p_guess ={\n",
    "    'dac_sweet_spot': dac_sweet_spot,\n",
    "    'V_per_phi0': V_per_phi0,\n",
    "    'Ej_max': 30e9,\n",
    "    'E_c': 175e6,\n",
    "    'asymmetry': 0.3,\n",
    "    'coupling': 0.2e9,\n",
    "    'fr': 7.553e9,\n",
    "}"
   ]
  },
  {
   "cell_type": "markdown",
   "id": "276b7af2",
   "metadata": {},
   "source": [
    "In the next cell, the actual optimization happens"
   ]
  },
  {
   "cell_type": "code",
   "execution_count": null,
   "id": "222f5ee9",
   "metadata": {},
   "outputs": [],
   "source": [
    "f = HF.optimizer(experimental_values=experimental_values_model, \n",
    "                 parameters_to_optimize=parameters_to_optimize, \n",
    "                 parameters_guess=p_guess,\n",
    "                 method='Nelder-Mead') #'Nelder-Mead'\n",
    "\n",
    "result_dict = HF.fit_parameters_from_optimization_results(f, parameters_to_optimize, p_guess)"
   ]
  },
  {
   "cell_type": "markdown",
   "id": "578d4a4b",
   "metadata": {},
   "source": [
    "## Results"
   ]
  },
  {
   "cell_type": "markdown",
   "id": "366cca87",
   "metadata": {},
   "source": [
    "Showing the resulting parameters..."
   ]
  },
  {
   "cell_type": "code",
   "execution_count": null,
   "id": "37b1d495",
   "metadata": {
    "scrolled": true
   },
   "outputs": [],
   "source": [
    "result_dict"
   ]
  },
  {
   "cell_type": "markdown",
   "id": "4cbc5ab8",
   "metadata": {},
   "source": [
    "...and showing the model in conjunction with the experimental values..."
   ]
  },
  {
   "cell_type": "code",
   "execution_count": null,
   "id": "f589c55c",
   "metadata": {
    "scrolled": false
   },
   "outputs": [],
   "source": [
    "HF.plot_model_and_experimental_values(result_dict, experimental_values_model, \n",
    "                                      transitions = ['ge','ef',((0,0),(0,1))]\n",
    "                                     )"
   ]
  },
  {
   "cell_type": "markdown",
   "id": "286487cb",
   "metadata": {},
   "source": [
    "## Visualizing verification measurements"
   ]
  },
  {
   "cell_type": "markdown",
   "id": "15e130c6",
   "metadata": {},
   "source": [
    "Next we can plot the verification measurements, and in the cell after the model versus the verification measurements."
   ]
  },
  {
   "cell_type": "code",
   "execution_count": null,
   "id": "dc93f3e8",
   "metadata": {
    "scrolled": false
   },
   "outputs": [],
   "source": [
    "HF.plot_experimental_values(experimental_values_verification, print_values=True)"
   ]
  },
  {
   "cell_type": "code",
   "execution_count": null,
   "id": "ba2fc69e",
   "metadata": {},
   "outputs": [],
   "source": [
    "HF.plot_model_and_experimental_values(result_dict, experimental_values_verification)"
   ]
  },
  {
   "cell_type": "markdown",
   "id": "91dcc7bc",
   "metadata": {},
   "source": [
    "## Residuals"
   ]
  },
  {
   "cell_type": "markdown",
   "id": "8fb9e08f",
   "metadata": {},
   "source": [
    "Lastly, we show the residuals (they are returned in this function). You can also choose to plot them using the `plot_residuals=True` parameter."
   ]
  },
  {
   "cell_type": "code",
   "execution_count": null,
   "id": "2b2bc8e1",
   "metadata": {},
   "outputs": [],
   "source": [
    "residuals = HF.calculate_residuals(result_dict, experimental_values_verification,\n",
    "                                   plot_residuals=True)"
   ]
  },
  {
   "cell_type": "markdown",
   "id": "9aa3d265",
   "metadata": {},
   "source": [
    "The end"
   ]
  }
 ],
 "metadata": {
  "kernelspec": {
   "display_name": "Python 3 (ipykernel)",
   "language": "python",
   "name": "python3"
  },
  "language_info": {
   "codemirror_mode": {
    "name": "ipython",
    "version": 3
   },
   "file_extension": ".py",
   "mimetype": "text/x-python",
   "name": "python",
   "nbconvert_exporter": "python",
   "pygments_lexer": "ipython3",
   "version": "3.9.7"
  },
  "toc": {
   "base_numbering": 1,
   "nav_menu": {},
   "number_sections": true,
   "sideBar": true,
   "skip_h1_title": false,
   "title_cell": "Table of Contents",
   "title_sidebar": "Contents",
   "toc_cell": false,
   "toc_position": {},
   "toc_section_display": true,
   "toc_window_display": true
  }
 },
 "nbformat": 4,
 "nbformat_minor": 5
}
