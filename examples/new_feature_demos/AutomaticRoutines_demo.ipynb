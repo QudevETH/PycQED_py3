{
 "cells": [
  {
   "cell_type": "markdown",
   "id": "e1a3c1ca",
   "metadata": {},
   "source": [
    "# Initialization"
   ]
  },
  {
   "cell_type": "markdown",
   "id": "63e67b09",
   "metadata": {},
   "source": [
    "## Initializing a virtual set-up"
   ]
  },
  {
   "cell_type": "code",
   "execution_count": null,
   "id": "20d484ea",
   "metadata": {
    "ExecuteTime": {
     "end_time": "2022-08-04T14:52:54.946363Z",
     "start_time": "2022-08-04T14:51:49.376854Z"
    },
    "scrolled": true
   },
   "outputs": [],
   "source": [
    "from pycqedscripts.init.demo.virtual_ATC75_M136_S17HW02_PQSC import *"
   ]
  },
  {
   "cell_type": "markdown",
   "id": "cdf4edd2",
   "metadata": {},
   "source": [
    "## Setting the data directories"
   ]
  },
  {
   "cell_type": "code",
   "execution_count": null,
   "id": "45ef4d37",
   "metadata": {
    "ExecuteTime": {
     "end_time": "2022-08-04T14:52:59.329720Z",
     "start_time": "2022-08-04T14:52:59.326720Z"
    },
    "scrolled": true
   },
   "outputs": [],
   "source": [
    "MC.datadir(r'data')  # data dir for virtual measurements\n",
    "a_tools.datadir = MC.datadir()"
   ]
  },
  {
   "cell_type": "markdown",
   "id": "20d5bb20",
   "metadata": {},
   "source": [
    "## Importing modules\n",
    "Importing relevant modules (including the one containing new `AutomaticCalibrationRoutine` class)"
   ]
  },
  {
   "cell_type": "code",
   "execution_count": null,
   "id": "2eebf958",
   "metadata": {
    "ExecuteTime": {
     "end_time": "2022-08-04T14:53:01.659780Z",
     "start_time": "2022-08-04T14:53:00.579766Z"
    }
   },
   "outputs": [],
   "source": [
    "from pycqed.measurement.calibration import automatic_calibration_routines as acr"
   ]
  },
  {
   "cell_type": "markdown",
   "id": "85432a77",
   "metadata": {},
   "source": [
    "## Initializing the device for automated routines"
   ]
  },
  {
   "cell_type": "markdown",
   "id": "0f7c5d08",
   "metadata": {},
   "source": [
    "Most of the parameters defining routines are stored in configuration files. They have to be loaded at first."
   ]
  },
  {
   "cell_type": "code",
   "execution_count": null,
   "id": "3b528f34",
   "metadata": {
    "ExecuteTime": {
     "end_time": "2022-08-04T14:53:03.390881Z",
     "start_time": "2022-08-04T14:53:03.187662Z"
    }
   },
   "outputs": [],
   "source": [
    "# FIXME this section should be moved in regular init at some point\n",
    "dev.MWGs = MWGs\n",
    "dev.TWPAs = TWPAs\n",
    "# If settings_default_folder is None, it uses the default PycQED settings \n",
    "# in pycqed.measurement.calibration.autocalib_default_settings\n",
    "settings_default_folder = None \n",
    "settings_setup_folder = r'..\\..\\..\\pycqed_scripts\\pycqedscripts\\init\\demo\\autocalib_settings\\Setup'\n",
    "settings_sample_folder = r'..\\..\\..\\pycqed_scripts\\pycqedscripts\\init\\demo\\autocalib_settings\\ATC124_M154_S17_4'\n",
    "settings = acr.SettingsDictionary()\n",
    "settings.load_settings_from_file(\n",
    "    settings_default_folder=settings_default_folder,\n",
    "    settings_setup_folder=settings_setup_folder,\n",
    "    settings_sample_folder=settings_sample_folder)\n",
    "dev.autocalib_settings = settings"
   ]
  },
  {
   "cell_type": "markdown",
   "id": "7d353df6",
   "metadata": {},
   "source": [
    "## Setting qubits"
   ]
  },
  {
   "cell_type": "code",
   "execution_count": null,
   "id": "1ee39780",
   "metadata": {
    "ExecuteTime": {
     "end_time": "2022-08-04T14:53:06.207792Z",
     "start_time": "2022-08-04T14:53:06.202796Z"
    }
   },
   "outputs": [],
   "source": [
    "qb = qb1\n",
    "qubits = [qb]"
   ]
  },
  {
   "cell_type": "markdown",
   "id": "1b7e64b7",
   "metadata": {},
   "source": [
    "# Routines"
   ]
  },
  {
   "cell_type": "markdown",
   "id": "da80a913",
   "metadata": {},
   "source": [
    "##  Single qubit calibration"
   ]
  },
  {
   "cell_type": "markdown",
   "id": "5fc39e7e",
   "metadata": {},
   "source": [
    "Single qubit calibration is a routine to recalibrate qubits and reset the setup to a default state."
   ]
  },
  {
   "cell_type": "markdown",
   "id": "55ae0fd0",
   "metadata": {},
   "source": [
    "First, just call the routine with the parameters set in the configuration files set above and all qubits. There might be some analysis errors since the data on the virtual setup are random."
   ]
  },
  {
   "cell_type": "code",
   "execution_count": null,
   "id": "94a10f81",
   "metadata": {
    "scrolled": true
   },
   "outputs": [],
   "source": [
    "sqc = SingleQubitCalib(dev=dev)"
   ]
  },
  {
   "cell_type": "markdown",
   "id": "94413d5b",
   "metadata": {},
   "source": [
    "Now let's set some configuration parameters for the routine via keyword arguments."
   ]
  },
  {
   "cell_type": "code",
   "execution_count": null,
   "id": "244a6178",
   "metadata": {
    "ExecuteTime": {
     "end_time": "2022-08-04T14:53:50.471648Z",
     "start_time": "2022-08-04T14:53:13.538817Z"
    }
   },
   "outputs": [],
   "source": [
    "sqc = acr.SingleQubitCalib(dev=dev, qubits=[qb1],  transition_names=['ge', 'ef'])"
   ]
  },
  {
   "cell_type": "markdown",
   "id": "89d48bce",
   "metadata": {},
   "source": [
    "Lastly, let's define a user dictionary similar to the configuration files as a last option to set user parameters."
   ]
  },
  {
   "cell_type": "code",
   "execution_count": null,
   "id": "5dcf69c1",
   "metadata": {
    "ExecuteTime": {
     "end_time": "2022-08-04T14:53:50.498628Z",
     "start_time": "2022-08-04T14:53:50.493633Z"
    }
   },
   "outputs": [],
   "source": [
    "# Turn on some steps with a user dictionary\n",
    "settings_user = {\n",
    "    'SingleQubitCalib': {\n",
    "        'General': {\n",
    "           't1': True,\n",
    "           'echo_small_AD': True,\n",
    "           'in_phase_calib': True\n",
    "        },\n",
    "\n",
    "    }\n",
    "}"
   ]
  },
  {
   "cell_type": "code",
   "execution_count": null,
   "id": "73bbb934",
   "metadata": {
    "ExecuteTime": {
     "end_time": "2022-08-04T14:54:43.398786Z",
     "start_time": "2022-08-04T14:54:00.402181Z"
    }
   },
   "outputs": [],
   "source": [
    "sqc = acr.SingleQubitCalib(dev=dev, qubits=[qb1], settings_user=settings_user)"
   ]
  },
  {
   "cell_type": "markdown",
   "id": "ac44390e",
   "metadata": {},
   "source": [
    "## Pi-pulse calibration"
   ]
  },
  {
   "cell_type": "markdown",
   "id": "1d9129c3",
   "metadata": {},
   "source": [
    "The PiPulseCalibration routine is a sequency of one Rabi and one Ramsey measurement. This can be useful to determine the transition frequency of a particular transition."
   ]
  },
  {
   "cell_type": "code",
   "execution_count": null,
   "id": "1681ad9d",
   "metadata": {
    "ExecuteTime": {
     "end_time": "2022-08-04T14:54:49.519714Z",
     "start_time": "2022-08-04T14:54:49.513717Z"
    },
    "scrolled": false
   },
   "outputs": [],
   "source": [
    "pipulse_calib = acr.PiPulseCalibration(dev = dev,\n",
    "                                   qubits = qubits, \n",
    "                                   autorun=False,\n",
    "                                   update=True,\n",
    "                                  )"
   ]
  },
  {
   "cell_type": "code",
   "execution_count": null,
   "id": "b2ee6825",
   "metadata": {
    "ExecuteTime": {
     "end_time": "2022-08-04T14:55:05.290314Z",
     "start_time": "2022-08-04T14:54:51.473695Z"
    },
    "scrolled": false
   },
   "outputs": [],
   "source": [
    "pipulse_calib.run()"
   ]
  },
  {
   "cell_type": "markdown",
   "id": "37393b3d",
   "metadata": {},
   "source": [
    "## Finding frequency"
   ]
  },
  {
   "cell_type": "markdown",
   "id": "d704bea0",
   "metadata": {},
   "source": [
    "The FindFrequency routine is a routine that iterates between Rabi and Ramsey experiments to determine the transition frequency. It is an extension of the Pi-pulse calibration, and makes use of an additional Decision step to see if the Ramsey outcomes have \"converged\". That is, if the current Ramsey experiment lead to the same result as a previous Ramsey experiment (up to a given distance `allowed_delta_f`)."
   ]
  },
  {
   "cell_type": "code",
   "execution_count": null,
   "id": "6a902f78",
   "metadata": {
    "ExecuteTime": {
     "end_time": "2022-08-04T14:55:08.471511Z",
     "start_time": "2022-08-04T14:55:08.465516Z"
    },
    "scrolled": true
   },
   "outputs": [],
   "source": [
    "ff = acr.FindFrequency(qubits=[qb1], dev=dev, autorun=False, update=True)"
   ]
  },
  {
   "cell_type": "code",
   "execution_count": null,
   "id": "0704699e",
   "metadata": {
    "ExecuteTime": {
     "end_time": "2022-08-04T14:55:49.604283Z",
     "start_time": "2022-08-04T14:55:09.129510Z"
    },
    "scrolled": true
   },
   "outputs": [],
   "source": [
    "ff.run()"
   ]
  },
  {
   "cell_type": "markdown",
   "id": "1b5b9ce1",
   "metadata": {},
   "source": [
    "##  Hamiltonian fitting"
   ]
  },
  {
   "cell_type": "markdown",
   "id": "0ff2b00a",
   "metadata": {},
   "source": [
    "This routine performs the Hamiltonian fitting procedure. "
   ]
  },
  {
   "cell_type": "markdown",
   "id": "a4ee6e31",
   "metadata": {},
   "source": [
    "**NOTE** the implementation of the Hamiltonian fitting routine makes use of flux-pulse assisted read-out. This technique requires the parameter `qb.flux_amplitude_bias_ratio()` to be set. For this demonstration, we will set it to some arbitrary value but beware that on a real setup the true value is required (depends on the electronics to the quantum chip)."
   ]
  },
  {
   "cell_type": "code",
   "execution_count": null,
   "id": "96c6fb43",
   "metadata": {
    "ExecuteTime": {
     "end_time": "2022-08-04T14:57:40.899912Z",
     "start_time": "2022-08-04T14:57:40.896911Z"
    }
   },
   "outputs": [],
   "source": [
    "qb.flux_amplitude_bias_ratio(42)"
   ]
  },
  {
   "cell_type": "markdown",
   "id": "a2a5f0d9",
   "metadata": {},
   "source": [
    "### with prior model"
   ]
  },
  {
   "cell_type": "markdown",
   "id": "0fb44a6a",
   "metadata": {},
   "source": [
    "#### Defining the routine"
   ]
  },
  {
   "cell_type": "code",
   "execution_count": null,
   "id": "f1c07158",
   "metadata": {
    "ExecuteTime": {
     "end_time": "2022-08-04T14:57:41.828804Z",
     "start_time": "2022-08-04T14:57:41.823806Z"
    }
   },
   "outputs": [],
   "source": [
    "pre_routine_model = {'Ej_max': 18925634578.803883, \n",
    "                     'E_c': 179311053.4831606, \n",
    "                     'asymmetry': 0.3574218197407885, \n",
    "                     'coupling': 165221330.37944722, \n",
    "                     'fr': 7350129526.414872, \n",
    "                     'V_per_phi0': 5.1435508397790715, \n",
    "                     'dac_sweet_spot': -1.499}\n",
    "\n",
    "qb.fit_ge_freq_from_dc_offset(pre_routine_model)"
   ]
  },
  {
   "cell_type": "code",
   "execution_count": null,
   "id": "638f3fea",
   "metadata": {
    "ExecuteTime": {
     "end_time": "2022-08-04T14:57:42.613909Z",
     "start_time": "2022-08-04T14:57:42.432235Z"
    }
   },
   "outputs": [],
   "source": [
    "hamfit = acr.HamiltonianFitting(\n",
    "    qubit = qb, \n",
    "    dev=dev,\n",
    "    fluxlines_dict = fluxlines_dict,\n",
    "    use_prior_model = True,\n",
    "    autorun=False)"
   ]
  },
  {
   "cell_type": "markdown",
   "id": "5107afd2",
   "metadata": {},
   "source": [
    "#### Executing the routine"
   ]
  },
  {
   "cell_type": "code",
   "execution_count": null,
   "id": "c89fdd03",
   "metadata": {
    "ExecuteTime": {
     "end_time": "2022-08-04T15:01:03.170260Z",
     "start_time": "2022-08-04T14:57:45.952471Z"
    },
    "scrolled": true
   },
   "outputs": [],
   "source": [
    "hamfit.run()"
   ]
  },
  {
   "cell_type": "markdown",
   "id": "6ec30f6f",
   "metadata": {},
   "source": [
    "#### Resulting Hamiltonian model"
   ]
  },
  {
   "cell_type": "code",
   "execution_count": null,
   "id": "092f945e",
   "metadata": {
    "ExecuteTime": {
     "end_time": "2022-08-04T15:01:03.390096Z",
     "start_time": "2022-08-04T15:01:03.364113Z"
    },
    "scrolled": true
   },
   "outputs": [],
   "source": [
    "qb.fit_ge_freq_from_dc_offset()"
   ]
  },
  {
   "cell_type": "markdown",
   "id": "c48b1118",
   "metadata": {},
   "source": [
    "Comparing with the old model:"
   ]
  },
  {
   "cell_type": "code",
   "execution_count": null,
   "id": "22002248",
   "metadata": {
    "ExecuteTime": {
     "end_time": "2022-08-04T15:01:03.608774Z",
     "start_time": "2022-08-04T15:01:03.411084Z"
    }
   },
   "outputs": [],
   "source": [
    "pre_routine_model"
   ]
  },
  {
   "cell_type": "markdown",
   "id": "8d971b29",
   "metadata": {},
   "source": [
    "### without prior model"
   ]
  },
  {
   "cell_type": "markdown",
   "id": "868ab5ab",
   "metadata": {},
   "source": [
    "#### Defining the routine"
   ]
  },
  {
   "cell_type": "markdown",
   "id": "5050f159",
   "metadata": {},
   "source": [
    "Starting with an empty model. The only necessary entries are 'V_per_phi0' and 'dac_sweet_spot' for flux-pulse-assisted readout."
   ]
  },
  {
   "cell_type": "code",
   "execution_count": null,
   "id": "e07bfc60",
   "metadata": {
    "ExecuteTime": {
     "end_time": "2022-08-04T15:11:48.932984Z",
     "start_time": "2022-08-04T15:11:48.911998Z"
    }
   },
   "outputs": [],
   "source": [
    "qb.fit_ge_freq_from_dc_offset({\n",
    "    'V_per_phi0': 5.1435508397790715, \n",
    "    'dac_sweet_spot': -1.499\n",
    "}) "
   ]
  },
  {
   "cell_type": "code",
   "execution_count": null,
   "id": "883a61bc",
   "metadata": {
    "ExecuteTime": {
     "end_time": "2022-08-04T15:11:51.299940Z",
     "start_time": "2022-08-04T15:11:51.294945Z"
    }
   },
   "outputs": [],
   "source": [
    "measurements = {0: ('ge', 'ef'), -0.5: ('ge',), -0.25: ('ge',), -0.3:('ge',)}"
   ]
  },
  {
   "cell_type": "code",
   "execution_count": null,
   "id": "a388897b",
   "metadata": {
    "ExecuteTime": {
     "end_time": "2022-08-04T15:11:52.683952Z",
     "start_time": "2022-08-04T15:11:52.678957Z"
    }
   },
   "outputs": [],
   "source": [
    "flux_to_voltage_and_freq_guess={0:(-0.5, 6e9), -0.5:(-3.5, 4.5e9),-0.3:(-3, 4.75e9)}"
   ]
  },
  {
   "cell_type": "code",
   "execution_count": null,
   "id": "a872f51e",
   "metadata": {
    "ExecuteTime": {
     "end_time": "2022-08-04T15:12:04.909822Z",
     "start_time": "2022-08-04T15:12:04.902828Z"
    },
    "scrolled": true
   },
   "outputs": [],
   "source": [
    "hamfit = acr.HamiltonianFitting(\n",
    "    qubit = qb, \n",
    "    dev=dev, \n",
    "    fluxlines_dict = fluxlines_dict, \n",
    "    use_prior_model = False,\n",
    "    measurements = measurements,\n",
    "    flux_to_voltage_and_freq_guess=flux_to_voltage_and_freq_guess, \n",
    "    autorun=False, \n",
    ")"
   ]
  },
  {
   "cell_type": "code",
   "execution_count": null,
   "id": "58ad763d",
   "metadata": {
    "ExecuteTime": {
     "end_time": "2022-08-04T15:12:05.667815Z",
     "start_time": "2022-08-04T15:12:05.663818Z"
    }
   },
   "outputs": [],
   "source": [
    "hamfit.ss1_flux"
   ]
  },
  {
   "cell_type": "code",
   "execution_count": null,
   "id": "85811758",
   "metadata": {
    "ExecuteTime": {
     "end_time": "2022-08-04T15:12:06.140106Z",
     "start_time": "2022-08-04T15:12:06.135109Z"
    }
   },
   "outputs": [],
   "source": [
    "hamfit.ss2_flux"
   ]
  },
  {
   "cell_type": "code",
   "execution_count": null,
   "id": "53a0acbd",
   "metadata": {
    "ExecuteTime": {
     "end_time": "2022-08-04T15:12:13.924727Z",
     "start_time": "2022-08-04T15:12:13.917733Z"
    }
   },
   "outputs": [],
   "source": [
    "hamfit.other_fluxes_with_guess"
   ]
  },
  {
   "cell_type": "markdown",
   "id": "84bbb37e",
   "metadata": {},
   "source": [
    "#### Executing the routine"
   ]
  },
  {
   "cell_type": "code",
   "execution_count": null,
   "id": "e260af17",
   "metadata": {
    "ExecuteTime": {
     "end_time": "2022-08-04T15:12:37.146087Z",
     "start_time": "2022-08-04T15:12:16.980810Z"
    },
    "scrolled": true
   },
   "outputs": [],
   "source": [
    "hamfit.run()"
   ]
  },
  {
   "cell_type": "markdown",
   "id": "551cf02f",
   "metadata": {},
   "source": [
    "#### Resulting Hamiltonian model"
   ]
  },
  {
   "cell_type": "code",
   "execution_count": null,
   "id": "76459929",
   "metadata": {
    "ExecuteTime": {
     "end_time": "2022-08-04T15:06:13.172899Z",
     "start_time": "2022-08-04T15:06:13.166901Z"
    },
    "scrolled": true
   },
   "outputs": [],
   "source": [
    "qb.fit_ge_freq_from_dc_offset()"
   ]
  }
 ],
 "metadata": {
  "kernelspec": {
   "display_name": "Python 3 (ipykernel)",
   "language": "python",
   "name": "python3"
  },
  "language_info": {
   "codemirror_mode": {
    "name": "ipython",
    "version": 3
   },
   "file_extension": ".py",
   "mimetype": "text/x-python",
   "name": "python",
   "nbconvert_exporter": "python",
   "pygments_lexer": "ipython3",
   "version": "3.9.12"
  },
  "toc": {
   "base_numbering": 1,
   "nav_menu": {},
   "number_sections": true,
   "sideBar": true,
   "skip_h1_title": false,
   "title_cell": "Table of Contents",
   "title_sidebar": "Contents",
   "toc_cell": false,
   "toc_position": {
    "height": "calc(100% - 180px)",
    "left": "10px",
    "top": "150px",
    "width": "202px"
   },
   "toc_section_display": true,
   "toc_window_display": true
  },
  "varInspector": {
   "cols": {
    "lenName": 16,
    "lenType": 16,
    "lenVar": 40
   },
   "kernels_config": {
    "python": {
     "delete_cmd_postfix": "",
     "delete_cmd_prefix": "del ",
     "library": "var_list.py",
     "varRefreshCmd": "print(var_dic_list())"
    },
    "r": {
     "delete_cmd_postfix": ") ",
     "delete_cmd_prefix": "rm(",
     "library": "var_list.r",
     "varRefreshCmd": "cat(var_dic_list()) "
    }
   },
   "types_to_exclude": [
    "module",
    "function",
    "builtin_function_or_method",
    "instance",
    "_Feature"
   ],
   "window_display": false
  }
 },
 "nbformat": 4,
 "nbformat_minor": 5
}
