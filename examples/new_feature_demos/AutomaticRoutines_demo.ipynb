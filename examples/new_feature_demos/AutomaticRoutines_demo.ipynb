{
 "cells": [
  {
   "cell_type": "markdown",
   "id": "e1a3c1ca",
   "metadata": {},
   "source": [
    "# Initialization"
   ]
  },
  {
   "cell_type": "markdown",
   "id": "63e67b09",
   "metadata": {},
   "source": [
    "## Initializing a virtual set-up"
   ]
  },
  {
   "cell_type": "code",
   "execution_count": null,
   "id": "20d484ea",
   "metadata": {
    "ExecuteTime": {
     "end_time": "2022-08-23T08:20:00.775701Z",
     "start_time": "2022-08-23T08:18:43.670399Z"
    },
    "scrolled": true
   },
   "outputs": [],
   "source": [
    "from pycqedscripts.init.demo.virtual_ATC75_M136_S17HW02_PQSC import *"
   ]
  },
  {
   "cell_type": "markdown",
   "id": "cdf4edd2",
   "metadata": {},
   "source": [
    "## Setting the data directories"
   ]
  },
  {
   "cell_type": "code",
   "execution_count": null,
   "id": "45ef4d37",
   "metadata": {
    "ExecuteTime": {
     "end_time": "2022-08-23T08:20:00.785695Z",
     "start_time": "2022-08-23T08:20:00.778698Z"
    },
    "scrolled": true
   },
   "outputs": [],
   "source": [
    "MC.datadir(r'data')  # data dir for virtual measurements\n",
    "a_tools.datadir = MC.datadir()"
   ]
  },
  {
   "cell_type": "markdown",
   "id": "20d5bb20",
   "metadata": {},
   "source": [
    "## Importing modules\n",
    "Importing relevant modules"
   ]
  },
  {
   "cell_type": "code",
   "execution_count": null,
   "id": "2eebf958",
   "metadata": {
    "ExecuteTime": {
     "end_time": "2022-08-23T08:20:01.505980Z",
     "start_time": "2022-08-23T08:20:00.788692Z"
    }
   },
   "outputs": [],
   "source": [
    "from pycqed.measurement.calibration import automatic_calibration_routines as acr"
   ]
  },
  {
   "cell_type": "markdown",
   "id": "85432a77",
   "metadata": {},
   "source": [
    "## Initializing the device for automated routines"
   ]
  },
  {
   "cell_type": "markdown",
   "id": "0f7c5d08",
   "metadata": {},
   "source": [
    "Most of the parameters defining routines are stored in configuration files. They have to be loaded at first."
   ]
  },
  {
   "cell_type": "code",
   "execution_count": null,
   "id": "3b528f34",
   "metadata": {
    "ExecuteTime": {
     "end_time": "2022-08-23T08:36:05.465807Z",
     "start_time": "2022-08-23T08:36:04.716124Z"
    }
   },
   "outputs": [],
   "source": [
    "# FIXME this section should be moved in regular init at some point\n",
    "dev.MWGs = MWGs\n",
    "dev.TWPAs = TWPAs\n",
    "# If settings_default_folder is None, it uses the default PycQED settings \n",
    "# in pycqed.measurement.calibration.autocalib_default_settings\n",
    "settings_default_folder = None \n",
    "settings_setup_folder = r'..\\..\\..\\pycqed_scripts\\pycqedscripts\\init\\demo\\autocalib_settings\\Setup'\n",
    "settings_sample_folder = r'..\\..\\..\\pycqed_scripts\\pycqedscripts\\init\\demo\\autocalib_settings\\ATC124_M154_S17_4'\n",
    "settings = acr.SettingsDictionary()\n",
    "settings.load_settings_from_file(\n",
    "    settings_default_folder=settings_default_folder,\n",
    "    settings_setup_folder=settings_setup_folder,\n",
    "    settings_sample_folder=settings_sample_folder)\n",
    "dev.autocalib_settings = settings"
   ]
  },
  {
   "cell_type": "markdown",
   "id": "1b7e64b7",
   "metadata": {},
   "source": [
    "# Routines"
   ]
  },
  {
   "cell_type": "markdown",
   "id": "da80a913",
   "metadata": {},
   "source": [
    "##  Single qubit calibration"
   ]
  },
  {
   "cell_type": "markdown",
   "id": "5fc39e7e",
   "metadata": {},
   "source": [
    "Single qubit calibration is a routine to recalibrate qubits and reset the setup to a default state."
   ]
  },
  {
   "cell_type": "markdown",
   "id": "55ae0fd0",
   "metadata": {},
   "source": [
    "First, just call the routine with the parameters set in the configuration files set above and a few qubits. Parallel tasks will be organized according to the qubit groups specified in the `parallel_groups` settings of each QuantumExperiment. There might be some analysis errors since the data on the virtual setup are random. "
   ]
  },
  {
   "cell_type": "code",
   "execution_count": null,
   "id": "94a10f81",
   "metadata": {
    "ExecuteTime": {
     "end_time": "2022-08-23T08:20:40.804381Z",
     "start_time": "2022-08-23T08:20:40.796389Z"
    },
    "scrolled": true
   },
   "outputs": [],
   "source": [
    "sqc = acr.SingleQubitCalib(dev=dev, qubits=[qb1,qb2,qb3],autorun=False)"
   ]
  },
  {
   "cell_type": "markdown",
   "id": "89effc1b",
   "metadata": {},
   "source": [
    "It is possible to view all the steps of a routine by calling `view()`. The steps are organized to be run in parallel when possible."
   ]
  },
  {
   "cell_type": "code",
   "execution_count": null,
   "id": "a3939cfc",
   "metadata": {
    "ExecuteTime": {
     "end_time": "2022-08-23T08:23:30.484903Z",
     "start_time": "2022-08-23T08:23:30.474908Z"
    },
    "scrolled": false
   },
   "outputs": [],
   "source": [
    "sqc.view()"
   ]
  },
  {
   "cell_type": "markdown",
   "id": "41f85842",
   "metadata": {},
   "source": [
    "The routine can be run by calling `run()`"
   ]
  },
  {
   "cell_type": "code",
   "execution_count": null,
   "id": "6bf39faa",
   "metadata": {
    "ExecuteTime": {
     "end_time": "2022-08-23T08:25:47.824770Z",
     "start_time": "2022-08-23T08:23:55.370261Z"
    }
   },
   "outputs": [],
   "source": [
    "sqc.run()"
   ]
  },
  {
   "cell_type": "markdown",
   "id": "94413d5b",
   "metadata": {},
   "source": [
    "Now let's set some configuration parameters for the routine via keyword arguments. If we don't set explicitly `autorun=False`, the routine will run automatically."
   ]
  },
  {
   "cell_type": "code",
   "execution_count": null,
   "id": "244a6178",
   "metadata": {
    "ExecuteTime": {
     "end_time": "2022-08-23T08:28:06.839243Z",
     "start_time": "2022-08-23T08:27:47.840128Z"
    }
   },
   "outputs": [],
   "source": [
    "sqc = acr.SingleQubitCalib(dev=dev, qubits=[qb1],  transition_names=['ef'])"
   ]
  },
  {
   "cell_type": "markdown",
   "id": "89d48bce",
   "metadata": {},
   "source": [
    "Lastly, let's define a user dictionary similar to the configuration files as a last option to set user parameters."
   ]
  },
  {
   "cell_type": "code",
   "execution_count": null,
   "id": "5dcf69c1",
   "metadata": {
    "ExecuteTime": {
     "end_time": "2022-08-23T08:28:21.660337Z",
     "start_time": "2022-08-23T08:28:21.656339Z"
    }
   },
   "outputs": [],
   "source": [
    "# Turn on some steps with a user dictionary\n",
    "settings_user = {\n",
    "    'SingleQubitCalib': {\n",
    "        'General': {\n",
    "           't1': True,\n",
    "           'echo_small_AD': True,\n",
    "           'in_phase_calib': True\n",
    "        },\n",
    "\n",
    "    }\n",
    "}"
   ]
  },
  {
   "cell_type": "markdown",
   "id": "ac4a95e9",
   "metadata": {},
   "source": [
    "By setting `verbose=False` it is also possible to avoid printing information about the routine progress."
   ]
  },
  {
   "cell_type": "code",
   "execution_count": null,
   "id": "73bbb934",
   "metadata": {
    "ExecuteTime": {
     "end_time": "2022-08-23T08:29:11.955821Z",
     "start_time": "2022-08-23T08:28:24.046821Z"
    }
   },
   "outputs": [],
   "source": [
    "sqc = acr.SingleQubitCalib(dev=dev, qubits=[qb1], settings_user=settings_user, verbose=False)"
   ]
  },
  {
   "cell_type": "markdown",
   "id": "ac44390e",
   "metadata": {},
   "source": [
    "## Pi-pulse calibration"
   ]
  },
  {
   "cell_type": "markdown",
   "id": "1d9129c3",
   "metadata": {},
   "source": [
    "The PiPulseCalibration routine is a sequency of one Rabi and one Ramsey measurement. This can be useful to determine the transition frequency of a particular transition."
   ]
  },
  {
   "cell_type": "code",
   "execution_count": null,
   "id": "1681ad9d",
   "metadata": {
    "ExecuteTime": {
     "end_time": "2022-08-23T08:36:09.065835Z",
     "start_time": "2022-08-23T08:36:09.058839Z"
    },
    "scrolled": false
   },
   "outputs": [],
   "source": [
    "pipulse_calib = acr.PiPulseCalibration(dev = dev,\n",
    "                                   qubits = qubits, \n",
    "                                   autorun=False,\n",
    "                                   update=True,\n",
    "                                  )"
   ]
  },
  {
   "cell_type": "markdown",
   "id": "b033cfa4",
   "metadata": {},
   "source": [
    "Settings that are specific to a qubit or a group of qubits can be specified using the keyword `qubits` in the settings dictionary (see the `Rabi` settings,  where different settings are used for `ancilla_qubits` and `data_qubits`). For a single qubit, it is possible to specify the qubit name instead of a qubits group. This can be done for all the routines."
   ]
  },
  {
   "cell_type": "code",
   "execution_count": null,
   "id": "01c926f5",
   "metadata": {
    "ExecuteTime": {
     "end_time": "2022-08-23T08:46:09.292669Z",
     "start_time": "2022-08-23T08:46:09.283674Z"
    },
    "scrolled": false
   },
   "outputs": [],
   "source": [
    "pipulse_calib.view()"
   ]
  },
  {
   "cell_type": "code",
   "execution_count": null,
   "id": "b2ee6825",
   "metadata": {
    "ExecuteTime": {
     "end_time": "2022-08-23T08:43:35.969829Z",
     "start_time": "2022-08-23T08:38:56.169650Z"
    },
    "scrolled": true
   },
   "outputs": [],
   "source": [
    "pipulse_calib.run()"
   ]
  },
  {
   "cell_type": "markdown",
   "id": "37393b3d",
   "metadata": {},
   "source": [
    "## Finding frequency"
   ]
  },
  {
   "cell_type": "markdown",
   "id": "d704bea0",
   "metadata": {},
   "source": [
    "The FindFrequency routine is a routine that iterates between Rabi and Ramsey experiments to determine the transition frequency. It is an extension of the Pi-pulse calibration, and makes use of an additional Decision step to see if the Ramsey outcomes have \"converged\". That is, if the current Ramsey experiment lead to the same result as a previous Ramsey experiment (up to a given distance `allowed_delta_f`)."
   ]
  },
  {
   "cell_type": "code",
   "execution_count": null,
   "id": "6a902f78",
   "metadata": {
    "ExecuteTime": {
     "end_time": "2022-08-23T08:46:15.009607Z",
     "start_time": "2022-08-23T08:46:15.003613Z"
    },
    "scrolled": true
   },
   "outputs": [],
   "source": [
    "ff = acr.FindFrequency(qubits=[qb1], dev=dev, autorun=False, update=True)"
   ]
  },
  {
   "cell_type": "code",
   "execution_count": null,
   "id": "0704699e",
   "metadata": {
    "ExecuteTime": {
     "end_time": "2022-08-23T08:47:22.260987Z",
     "start_time": "2022-08-23T08:46:15.557624Z"
    },
    "scrolled": true
   },
   "outputs": [],
   "source": [
    "ff.run()"
   ]
  },
  {
   "cell_type": "markdown",
   "id": "1b5b9ce1",
   "metadata": {},
   "source": [
    "##  Hamiltonian fitting"
   ]
  },
  {
   "cell_type": "markdown",
   "id": "0ff2b00a",
   "metadata": {},
   "source": [
    "This routine performs the Hamiltonian fitting procedure. "
   ]
  },
  {
   "cell_type": "markdown",
   "id": "a4ee6e31",
   "metadata": {},
   "source": [
    "**NOTE** the implementation of the Hamiltonian fitting routine makes use of flux-pulse assisted read-out. This technique requires the parameter `qb.flux_amplitude_bias_ratio()` to be set. For this demonstration, we will set it to some arbitrary value but beware that on a real setup the true value is required (depends on the electronics to the quantum chip)."
   ]
  },
  {
   "cell_type": "code",
   "execution_count": null,
   "id": "96c6fb43",
   "metadata": {
    "ExecuteTime": {
     "end_time": "2022-08-23T08:48:01.996824Z",
     "start_time": "2022-08-23T08:48:01.970434Z"
    }
   },
   "outputs": [],
   "source": [
    "qb.flux_amplitude_bias_ratio(42)"
   ]
  },
  {
   "cell_type": "markdown",
   "id": "a2a5f0d9",
   "metadata": {},
   "source": [
    "### with prior model"
   ]
  },
  {
   "cell_type": "markdown",
   "id": "0fb44a6a",
   "metadata": {},
   "source": [
    "#### Defining the routine"
   ]
  },
  {
   "cell_type": "code",
   "execution_count": null,
   "id": "f1c07158",
   "metadata": {
    "ExecuteTime": {
     "end_time": "2022-08-23T08:48:03.664859Z",
     "start_time": "2022-08-23T08:48:03.530414Z"
    }
   },
   "outputs": [],
   "source": [
    "pre_routine_model = {'Ej_max': 18925634578.803883, \n",
    "                     'E_c': 179311053.4831606, \n",
    "                     'asymmetry': 0.3574218197407885, \n",
    "                     'coupling': 165221330.37944722, \n",
    "                     'fr': 7350129526.414872, \n",
    "                     'V_per_phi0': 5.1435508397790715, \n",
    "                     'dac_sweet_spot': -1.499}\n",
    "\n",
    "qb.fit_ge_freq_from_dc_offset(pre_routine_model)"
   ]
  },
  {
   "cell_type": "code",
   "execution_count": null,
   "id": "638f3fea",
   "metadata": {
    "ExecuteTime": {
     "end_time": "2022-08-23T08:48:04.517811Z",
     "start_time": "2022-08-23T08:48:04.218410Z"
    }
   },
   "outputs": [],
   "source": [
    "hamfit = acr.HamiltonianFitting(\n",
    "    qubit = qb, \n",
    "    dev=dev,\n",
    "    fluxlines_dict = fluxlines_dict,\n",
    "    use_prior_model = True,\n",
    "    autorun=False)"
   ]
  },
  {
   "cell_type": "markdown",
   "id": "91e5330c",
   "metadata": {},
   "source": [
    "The routine steps can be inspected using `view()`. Note that if the routine contains subroutines, these are initialized at runtime. Therefore, the steps of the subroutine do not appear explicitly here. For example, although it the steps of the `FindFrequency` subroutine do not appear at the moment."
   ]
  },
  {
   "cell_type": "code",
   "execution_count": null,
   "id": "eab7fd47",
   "metadata": {
    "ExecuteTime": {
     "end_time": "2022-08-23T08:53:56.737204Z",
     "start_time": "2022-08-23T08:53:56.725211Z"
    },
    "scrolled": false
   },
   "outputs": [],
   "source": [
    "hamfit.view()"
   ]
  },
  {
   "cell_type": "markdown",
   "id": "5107afd2",
   "metadata": {},
   "source": [
    "#### Executing the routine"
   ]
  },
  {
   "cell_type": "code",
   "execution_count": null,
   "id": "c89fdd03",
   "metadata": {
    "ExecuteTime": {
     "end_time": "2022-08-23T08:53:00.332982Z",
     "start_time": "2022-08-23T08:48:39.363032Z"
    },
    "scrolled": true
   },
   "outputs": [],
   "source": [
    "hamfit.run()"
   ]
  },
  {
   "cell_type": "markdown",
   "id": "6ec30f6f",
   "metadata": {},
   "source": [
    "#### Resulting Hamiltonian model"
   ]
  },
  {
   "cell_type": "code",
   "execution_count": null,
   "id": "092f945e",
   "metadata": {
    "ExecuteTime": {
     "end_time": "2022-08-23T08:54:03.754965Z",
     "start_time": "2022-08-23T08:54:03.734976Z"
    },
    "scrolled": true
   },
   "outputs": [],
   "source": [
    "qb.fit_ge_freq_from_dc_offset()"
   ]
  },
  {
   "cell_type": "markdown",
   "id": "c48b1118",
   "metadata": {},
   "source": [
    "Comparing with the old model:"
   ]
  },
  {
   "cell_type": "code",
   "execution_count": null,
   "id": "22002248",
   "metadata": {
    "ExecuteTime": {
     "end_time": "2022-08-23T08:54:05.348465Z",
     "start_time": "2022-08-23T08:54:05.342469Z"
    }
   },
   "outputs": [],
   "source": [
    "pre_routine_model"
   ]
  },
  {
   "cell_type": "markdown",
   "id": "8d971b29",
   "metadata": {},
   "source": [
    "### without prior model"
   ]
  },
  {
   "cell_type": "markdown",
   "id": "868ab5ab",
   "metadata": {},
   "source": [
    "#### Defining the routine"
   ]
  },
  {
   "cell_type": "markdown",
   "id": "5050f159",
   "metadata": {},
   "source": [
    "Starting with an empty model. The only necessary entries are `V_per_phi0` and `dac_sweet_spot` for flux-pulse-assisted readout."
   ]
  },
  {
   "cell_type": "code",
   "execution_count": null,
   "id": "e07bfc60",
   "metadata": {
    "ExecuteTime": {
     "end_time": "2022-08-23T08:54:19.542821Z",
     "start_time": "2022-08-23T08:54:19.518835Z"
    }
   },
   "outputs": [],
   "source": [
    "qb.fit_ge_freq_from_dc_offset({\n",
    "    'V_per_phi0': 5.1435508397790715, \n",
    "    'dac_sweet_spot': -1.499\n",
    "}) "
   ]
  },
  {
   "cell_type": "code",
   "execution_count": null,
   "id": "883a61bc",
   "metadata": {
    "ExecuteTime": {
     "end_time": "2022-08-23T08:54:20.370291Z",
     "start_time": "2022-08-23T08:54:20.350305Z"
    }
   },
   "outputs": [],
   "source": [
    "measurements = {0: ('ge', 'ef'), -0.5: ('ge',), -0.25: ('ge',), -0.3:('ge',)}"
   ]
  },
  {
   "cell_type": "code",
   "execution_count": null,
   "id": "a388897b",
   "metadata": {
    "ExecuteTime": {
     "end_time": "2022-08-23T08:54:21.342272Z",
     "start_time": "2022-08-23T08:54:21.319287Z"
    }
   },
   "outputs": [],
   "source": [
    "flux_to_voltage_and_freq_guess={0:(-0.5, 6e9), -0.5:(-3.5, 4.5e9),-0.3:(-3, 4.75e9)}"
   ]
  },
  {
   "cell_type": "code",
   "execution_count": null,
   "id": "a872f51e",
   "metadata": {
    "ExecuteTime": {
     "end_time": "2022-08-23T08:54:22.309850Z",
     "start_time": "2022-08-23T08:54:22.301857Z"
    },
    "scrolled": true
   },
   "outputs": [],
   "source": [
    "hamfit = acr.HamiltonianFitting(\n",
    "    qubit = qb, \n",
    "    dev=dev, \n",
    "    fluxlines_dict = fluxlines_dict, \n",
    "    use_prior_model = False,\n",
    "    measurements = measurements,\n",
    "    flux_to_voltage_and_freq_guess=flux_to_voltage_and_freq_guess, \n",
    "    autorun=False, \n",
    ")"
   ]
  },
  {
   "cell_type": "code",
   "execution_count": null,
   "id": "58ad763d",
   "metadata": {
    "ExecuteTime": {
     "end_time": "2022-08-23T08:54:23.021970Z",
     "start_time": "2022-08-23T08:54:23.014976Z"
    }
   },
   "outputs": [],
   "source": [
    "hamfit.ss1_flux"
   ]
  },
  {
   "cell_type": "code",
   "execution_count": null,
   "id": "85811758",
   "metadata": {
    "ExecuteTime": {
     "end_time": "2022-08-23T08:54:23.301851Z",
     "start_time": "2022-08-23T08:54:23.295854Z"
    }
   },
   "outputs": [],
   "source": [
    "hamfit.ss2_flux"
   ]
  },
  {
   "cell_type": "code",
   "execution_count": null,
   "id": "53a0acbd",
   "metadata": {
    "ExecuteTime": {
     "end_time": "2022-08-23T08:54:23.597264Z",
     "start_time": "2022-08-23T08:54:23.591267Z"
    }
   },
   "outputs": [],
   "source": [
    "hamfit.other_fluxes_with_guess"
   ]
  },
  {
   "cell_type": "markdown",
   "id": "84bbb37e",
   "metadata": {},
   "source": [
    "#### Executing the routine"
   ]
  },
  {
   "cell_type": "code",
   "execution_count": null,
   "id": "e260af17",
   "metadata": {
    "ExecuteTime": {
     "end_time": "2022-08-23T08:59:39.581965Z",
     "start_time": "2022-08-23T08:54:24.974976Z"
    },
    "scrolled": true
   },
   "outputs": [],
   "source": [
    "hamfit.run()"
   ]
  },
  {
   "cell_type": "markdown",
   "id": "551cf02f",
   "metadata": {},
   "source": [
    "#### Resulting Hamiltonian model"
   ]
  },
  {
   "cell_type": "code",
   "execution_count": null,
   "id": "76459929",
   "metadata": {
    "ExecuteTime": {
     "end_time": "2022-08-23T08:59:41.308907Z",
     "start_time": "2022-08-23T08:59:41.249801Z"
    },
    "scrolled": true
   },
   "outputs": [],
   "source": [
    "qb.fit_ge_freq_from_dc_offset()"
   ]
  },
  {
   "cell_type": "code",
   "execution_count": null,
   "id": "a8963405",
   "metadata": {},
   "outputs": [],
   "source": []
  }
 ],
 "metadata": {
  "kernelspec": {
   "display_name": "Python 3 (ipykernel)",
   "language": "python",
   "name": "python3"
  },
  "language_info": {
   "codemirror_mode": {
    "name": "ipython",
    "version": 3
   },
   "file_extension": ".py",
   "mimetype": "text/x-python",
   "name": "python",
   "nbconvert_exporter": "python",
   "pygments_lexer": "ipython3",
   "version": "3.9.12"
  },
  "toc": {
   "base_numbering": 1,
   "nav_menu": {},
   "number_sections": true,
   "sideBar": true,
   "skip_h1_title": false,
   "title_cell": "Table of Contents",
   "title_sidebar": "Contents",
   "toc_cell": false,
   "toc_position": {
    "height": "calc(100% - 180px)",
    "left": "10px",
    "top": "150px",
    "width": "202px"
   },
   "toc_section_display": true,
   "toc_window_display": true
  },
  "varInspector": {
   "cols": {
    "lenName": 16,
    "lenType": 16,
    "lenVar": 40
   },
   "kernels_config": {
    "python": {
     "delete_cmd_postfix": "",
     "delete_cmd_prefix": "del ",
     "library": "var_list.py",
     "varRefreshCmd": "print(var_dic_list())"
    },
    "r": {
     "delete_cmd_postfix": ") ",
     "delete_cmd_prefix": "rm(",
     "library": "var_list.r",
     "varRefreshCmd": "cat(var_dic_list()) "
    }
   },
   "types_to_exclude": [
    "module",
    "function",
    "builtin_function_or_method",
    "instance",
    "_Feature"
   ],
   "window_display": false
  }
 },
 "nbformat": 4,
 "nbformat_minor": 5
}
