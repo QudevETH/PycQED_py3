{
 "cells": [
  {
   "cell_type": "markdown",
   "id": "31ee1642",
   "metadata": {},
   "source": [
    "## Demo Notebook PycQED GUI\n",
    "\n",
    "This notebook is intended as an introduction to the available graphical tools that can help with using the PycQED library more efficiently.\n",
    "\n",
    "The GUI currently being developped, if you have any suggestions for improving the user experience please contact me (kknapp@student.ethz.ch)."
   ]
  },
  {
   "cell_type": "code",
   "execution_count": 1,
   "id": "6ea412e2",
   "metadata": {},
   "outputs": [
    {
     "name": "stdout",
     "output_type": "stream",
     "text": [
      "Data directory set to: c:\\users\\kuno knapp\\documents\\control_software\\pycqed_py3\\data\n"
     ]
    },
    {
     "name": "stderr",
     "output_type": "stream",
     "text": [
      "WARNING:pycqed.measurement.optimization:Machine learning packages not loaded. Run from pycqed.analysis import machine_learning_toolbox to see errors.\n"
     ]
    },
    {
     "name": "stdout",
     "output_type": "stream",
     "text": [
      "\n",
      "You can find the C code in this temporary file: C:\\Users\\KUNOKN~1\\AppData\\Local\\Temp\\theano_compilation_error_foet_7dt\n"
     ]
    },
    {
     "name": "stderr",
     "output_type": "stream",
     "text": [
      "WARNING:pycqed.analysis.measurement_analysis:Machine learning packages not loaded. Run from pycqed.analysis import machine_learning_toolbox to see errors.\n"
     ]
    },
    {
     "name": "stdout",
     "output_type": "stream",
     "text": [
      "\n",
      "You can find the C code in this temporary file: C:\\Users\\KUNOKN~1\\AppData\\Local\\Temp\\theano_compilation_error_fd5pxs0j\n",
      "Setting debug level to 0\n",
      "Connected to: ZurichInstruments PQSC (serial:dev10017, firmware:99999) in 0.17s\n",
      "Initialized PQSC dev10017 in 0.17s\n",
      "Setting debug level to 0\n",
      "Connected to: ZurichInstruments UHFQA (serial:dev2268, firmware:99999) in 0.10s\n",
      "Setting debug level to 0\n",
      "Connected to: ZurichInstruments UHFQA (serial:dev2121, firmware:99999) in 0.10s\n",
      "Setting debug level to 0\n",
      "Connected to: ZurichInstruments UHFQA (serial:dev2535, firmware:99999) in 0.10s\n",
      "Setting debug level to 0\n",
      "Connected to: ZurichInstruments UHFQA (serial:dev2533, firmware:99999) in 0.22s\n",
      "Setting debug level to 0\n",
      "Connected to: ZurichInstruments HDAWG8 (serial:dev8188, firmware:99999) in 0.28s\n",
      "Setting debug level to 0\n",
      "Connected to: ZurichInstruments HDAWG8 (serial:dev8237, firmware:99999) in 0.43s\n",
      "Setting debug level to 0\n",
      "Connected to: ZurichInstruments HDAWG8 (serial:dev8097, firmware:99999) in 0.28s\n",
      "Setting debug level to 0\n",
      "Connected to: ZurichInstruments HDAWG8 (serial:dev8344, firmware:99999) in 0.28s\n",
      "Setting debug level to 0\n",
      "Connected to: ZurichInstruments HDAWG8 (serial:dev8235, firmware:99999) in 0.46s\n",
      "Setting debug level to 0\n",
      "Connected to: ZurichInstruments HDAWG8 (serial:dev8098, firmware:99999) in 0.27s\n",
      "Setting debug level to 0\n",
      "Connected to: ZurichInstruments HDAWG8 (serial:dev8096, firmware:99999) in 0.28s\n",
      "Ran initialization in 18.27s\n"
     ]
    }
   ],
   "source": [
    "# the purpose of the first two cells is to instantiate a QuantumExperiment to use in the WaveformViewer GUI\n",
    "from pycqedscripts.init.demo.virtual_ATC75_M136_S17HW02_PQSC import *\n",
    "# set datadir for measurement control and analysis tools\n",
    "datadir_path = r'C:\\Users\\Kuno Knapp\\Documents\\pydata'\n",
    "MC.datadir(datadir_path)\n",
    "a_tools.datadir = MC.datadir()"
   ]
  },
  {
   "cell_type": "code",
   "execution_count": 2,
   "id": "df59c183",
   "metadata": {},
   "outputs": [
    {
     "name": "stdout",
     "output_type": "stream",
     "text": [
      "Starting measurement: Chevron\n",
      "Sweep function 0: Hard_Sweep\n",
      "Sweep function 1: SegmentSoftSweep\n",
      "Detector function: UHFQC_multi_detector\n",
      "13:44:53\t100% completed \telapsed time: 18.4s \ttime left: 0.0s\t(until 13:44:53)     \n"
     ]
    }
   ],
   "source": [
    "from pycqed.measurement.calibration.two_qubit_gates import Chevron\n",
    "qbc = qb2\n",
    "qbt = qb1\n",
    "cz_pulse_name = 'CZ_nzbasic'\n",
    "pl = np.linspace(10e-9, 150e-9, 6)\n",
    "sweep_points = sp_mod.SweepPoints('pulse_length', pl, 's', dimension=0)\n",
    "dev.get_pulse_par(cz_pulse_name, qbc, qbt, 'amplitude')(0.6)\n",
    "amp = 0.5 + np.linspace(-0.4, 0.4, 5)\n",
    "sweep_points.add_sweep_parameter('amplitude2', amp, 'V', dimension=1)\n",
    "chevron_task = {\n",
    "    'qbc': qbc,\n",
    "    'qbt': qbt,\n",
    "    'sweep_points': sweep_points\n",
    "}\n",
    "task_list = [chevron_task]\n",
    "\n",
    "# run the Chevron measurement\n",
    "chevron_experiment = Chevron(task_list,\n",
    "               dev=dev,\n",
    "               cal_states=('g', 'e', 'f'), # use calibration states g, e, f\n",
    "               cz_pulse_name=cz_pulse_name,\n",
    "               sweep_points=sweep_points,\n",
    "              )"
   ]
  },
  {
   "cell_type": "code",
   "execution_count": 3,
   "id": "2e59feca",
   "metadata": {},
   "outputs": [],
   "source": [
    "from pycqed.gui.waveform_viewer import WaveformViewer"
   ]
  },
  {
   "cell_type": "code",
   "execution_count": 4,
   "id": "eed9ceb3",
   "metadata": {},
   "outputs": [],
   "source": [
    "# instantiate the waveform gui, you can pass any object of type QuantumExperiment (or objects that inherit from that class)\n",
    "# \n",
    "# ctrl-clicking allows for fast selection of pulses\n",
    "wpqe = WaveformViewer(chevron_experiment)"
   ]
  },
  {
   "cell_type": "code",
   "execution_count": 5,
   "id": "6849381a",
   "metadata": {},
   "outputs": [],
   "source": [
    "# example of waveform viewer with keywords\n",
    "wpqe = WaveformViewer(chevron_experiment,\n",
    "                                      sequence_index=1,\n",
    "                                      segment_index=2,\n",
    "                                      rc_params=\n",
    "                                      {'figure.facecolor': '#383838',\n",
    "                                       'axes.facecolor': '#505050',\n",
    "                                       'text.color': 'white',\n",
    "                                       'axes.labelcolor': 'white',\n",
    "                                       'xtick.color': 'white',\n",
    "                                       'ytick.color': 'white'},\n",
    "                                      new_process=True,\n",
    "                                      linewidth='1.2',\n",
    "                                      )"
   ]
  },
  {
   "cell_type": "code",
   "execution_count": 6,
   "id": "937eadec",
   "metadata": {},
   "outputs": [
    {
     "name": "stderr",
     "output_type": "stream",
     "text": [
      "c:\\users\\kuno knapp\\documents\\control_software\\pycqed_py3\\pycqed\\gui\\waveform_viewer.py:101: UserWarning: Tight layout not applied. tight_layout cannot make axes height small enough to accommodate all axes decorations\n",
      "  self.app.exec_()\n"
     ]
    }
   ],
   "source": [
    "# wrapper method in QuantumExperiment class to spawn the WaveformViewer\n",
    "# setting new_process=False is faster, but prevents the active python process from receiving further input\n",
    "chevron_experiment.spawn_waveform_viewer(new_process=False)"
   ]
  }
 ],
 "metadata": {
  "kernelspec": {
   "display_name": "Python [conda env:pycqed39]",
   "language": "python",
   "name": "conda-env-pycqed39-py"
  },
  "language_info": {
   "codemirror_mode": {
    "name": "ipython",
    "version": 3
   },
   "file_extension": ".py",
   "mimetype": "text/x-python",
   "name": "python",
   "nbconvert_exporter": "python",
   "pygments_lexer": "ipython3",
   "version": "3.9.7"
  }
 },
 "nbformat": 4,
 "nbformat_minor": 5
}
